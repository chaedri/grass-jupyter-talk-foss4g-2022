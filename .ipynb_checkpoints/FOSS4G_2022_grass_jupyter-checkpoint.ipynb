{
 "cells": [
  {
   "cell_type": "markdown",
   "id": "9142f812",
   "metadata": {
    "slideshow": {
     "slide_type": "slide"
    }
   },
   "source": [
    "<h2 align=\"center\">Using GRASS GIS in Jupyter Notebooks: \n",
    "    <br>\n",
    "    An Introduction to grass.jupyter </h2>\n",
    "\n",
    "\n",
    "<h4 align=\"center\">Caitlin Haedrich, Vaclav Petras, Anna Petrasova</h4>\n",
    "\n",
    "<img align=\"center\" src=\"img/grassjupyter.png\" alt=\"grass_jupyter\" width=\"200\"/>\n",
    "\n",
    "\n",
    "<center><a href=\"http://geospatial.ncsu.edu/geoforall/\" title=\"NCSU GeoForAll Lab\">NCSU GeoForAll Lab</a>\n",
    "at the\n",
    "<a href=\"http://geospatial.ncsu.edu/\" title=\"NCSU Center for Geospatial Analytics\">Center for Geospatial Analytics</a>\n",
    "<br>\n",
    "<a href=\"http://www.ncsu.edu/\" title=\"North Carolina State University\">North Carolina State University</a>\n",
    "</center>"
   ]
  },
  {
   "cell_type": "markdown",
   "id": "173c58ad",
   "metadata": {
    "slideshow": {
     "slide_type": "slide"
    }
   },
   "source": [
    "<h2 align=\"center\">Caitlin Haedrich</h2>\n",
    "\n",
    "- PhD student [GeoForAll Lab](http://geospatial.ncsu.edu/geoforall/) at North Carolina State University\n",
    "- Advised by Helena Mitasova (and Anna Petrasova and Vashek Petras)\n",
    "- Interested in geovisualization and increasing accessibilty of GIS tools\n",
    "- Working with integrating GRASS GIS with Jupyter through Google Summer of Code 2021 and Mini Project Grant from GRASS GIS\n",
    "- TA for graduate-level Geospatial Computation and Simulation\n",
    "\n",
    "<img src=\"img/geoforall.png\" alt=\"geoforall\" width=\"80\"/>\n",
    "\n",
    "<img src=\"img/ncstate.png\" alt=\"ncstate\" width=150/>"
   ]
  },
  {
   "cell_type": "markdown",
   "id": "8496bc1f",
   "metadata": {
    "slideshow": {
     "slide_type": "slide"
    }
   },
   "source": [
    "<h2 align=\"center\">GRASS GIS</h2>\n",
    "\n",
    "- Open-source GIS software with over 500 tools and 400 addons\n",
    "- Interfaces: graphical user interface, command line, Python, C\n",
    "- 3rd Party Interfaces: R, QGIS, actinia (REST API)\n",
    "\n",
    "<img src=\"img/grassgui.png\" alt=\"GUI\" width=600/>\n",
    "\n",
    "<img align=\"right\" src=\"img/grasslogo.png\" alt=\"grassgis\" width=50/>"
   ]
  },
  {
   "cell_type": "markdown",
   "id": "e01e883e",
   "metadata": {
    "slideshow": {
     "slide_type": "slide"
    }
   },
   "source": [
    "<h2 align=\"center\">Project Jupyter</h2>\n",
    "\n",
    "\n",
    "\n",
    ">*“The Jupyter Notebook is an open-source web application that allows you to create and share documents that contain live code, equations, visualizations and narrative text.”*\n",
    "– jupyter.org\n",
    "\n",
    "<img src=\"img/JupyterDemo.png\" alt=\"Jupyter\" width=400/>"
   ]
  },
  {
   "cell_type": "code",
   "execution_count": 1,
   "id": "3cc7c327",
   "metadata": {
    "slideshow": {
     "slide_type": "subslide"
    }
   },
   "outputs": [
    {
     "name": "stdout",
     "output_type": "stream",
     "text": [
      "We are using Python 3.9.5\n"
     ]
    }
   ],
   "source": [
    "import sys\n",
    "\n",
    "v = sys.version_info\n",
    "print(f\"We are using Python {v.major}.{v.minor}.{v.micro}\")"
   ]
  },
  {
   "cell_type": "markdown",
   "id": "d0ad54d0",
   "metadata": {
    "slideshow": {
     "slide_type": "subslide"
    }
   },
   "source": [
    "The output can also be interactive."
   ]
  },
  {
   "cell_type": "code",
   "execution_count": 2,
   "id": "65b85a17",
   "metadata": {
    "slideshow": {
     "slide_type": "subslide"
    }
   },
   "outputs": [
    {
     "data": {
      "application/vnd.jupyter.widget-view+json": {
       "model_id": "a16f7cee4fe8476c9bcbb219f1924c66",
       "version_major": 2,
       "version_minor": 0
      },
      "text/plain": [
       "interactive(children=(IntSlider(value=10, description='x', max=30, min=-10), Output()), _dom_classes=('widget-…"
      ]
     },
     "metadata": {},
     "output_type": "display_data"
    }
   ],
   "source": [
    "from ipywidgets import interact\n",
    "\n",
    "def f(x):\n",
    "    return x\n",
    "\n",
    "interact(f, x=10);"
   ]
  },
  {
   "cell_type": "markdown",
   "id": "01734edc",
   "metadata": {
    "slideshow": {
     "slide_type": "slide"
    }
   },
   "source": [
    "<h2 align=\"center\">Teaching Geospatial Analytics with Jupyter</h2>\n",
    "\n",
    "<img align=\"right\" src=\"img/oldGIS714.png\" alt=\"oldGIS714\" width=400/>"
   ]
  },
  {
   "cell_type": "markdown",
   "id": "004fe15d",
   "metadata": {
    "slideshow": {
     "slide_type": "slide"
    }
   },
   "source": [
    "<h2 align=\"center\">grass.jupyter</h2>\n",
    "\n",
    "* Released with main GRASS GIS distribution starting in version 8.2\n",
    "* Python package that makes GRASS more accessible in Jupyter by providing:\n",
    "    * Data management functions\n",
    "    * Visualizations classes for viewing and interacting with GRASS through in-line figures\n",
    "* Created with syntax consistent with GRASS's existing Python API and command line interface\n",
    "\n",
    "<br>\n",
    "\n",
    "You can try it out in Binder! (also linked from the GRASS GIS GitHub README)\n",
    "[![Binder](https://camo.githubusercontent.com/581c077bdbc6ca6899c86d0acc6145ae85e9d80e6f805a1071793dbe48917982/68747470733a2f2f6d7962696e6465722e6f72672f62616467655f6c6f676f2e737667)](https://mybinder.org/v2/gh/OSGeo/grass/main?urlpath=lab%2Ftree%2Fdoc%2Fnotebooks%2Fjupyter_example.ipynb)"
   ]
  },
  {
   "cell_type": "markdown",
   "id": "d7e0484a",
   "metadata": {
    "slideshow": {
     "slide_type": "slide"
    }
   },
   "source": [
    "<h2 align=\"center\">Getting Started</h2>"
   ]
  },
  {
   "cell_type": "code",
   "execution_count": null,
   "id": "bcd5a473",
   "metadata": {
    "slideshow": {
     "slide_type": "subslide"
    }
   },
   "outputs": [],
   "source": [
    "# Import Python standard library and IPython packages we need.\n",
    "import subprocess\n",
    "import sys\n",
    "\n",
    "# Ask GRASS GIS where its Python packages are.\n",
    "sys.path.append(\n",
    "    subprocess.check_output([\"grass80\", \"--config\", \"python_path\"], text=True, shell=True).strip()\n",
    ")"
   ]
  },
  {
   "cell_type": "code",
   "execution_count": 6,
   "id": "4a089697",
   "metadata": {
    "slideshow": {
     "slide_type": "subslide"
    }
   },
   "outputs": [],
   "source": [
    "# Import the GRASS GIS packages we need.\n",
    "import grass.script as gs\n",
    "import grass.jupyter as gj\n",
    "\n",
    "# Start GRASS Session\n",
    "session = gj.init(\"data\", \"nc_spm_08_grass7\", \"PERMANENT\")"
   ]
  },
  {
   "cell_type": "markdown",
   "id": "2f590d1c",
   "metadata": {
    "slideshow": {
     "slide_type": "subslide"
    }
   },
   "source": [
    "And then we are ready to begin using GRASS!\n",
    "\n",
    "We can use the command line interface for GRASS by using the cell magic `!` (for individual lines) or `%%bash` (applies to entire cell) which sends the code to the terminal."
   ]
  },
  {
   "cell_type": "code",
   "execution_count": null,
   "id": "03c04626",
   "metadata": {
    "slideshow": {
     "slide_type": "subslide"
    }
   },
   "outputs": [],
   "source": [
    "%%bash\n",
    "g.list type=raster -m -t"
   ]
  },
  {
   "cell_type": "markdown",
   "id": "053cc61b",
   "metadata": {
    "slideshow": {
     "slide_type": "subslide"
    }
   },
   "source": [
    "Or we can use the Python API for GRASS GIS. "
   ]
  },
  {
   "cell_type": "code",
   "execution_count": null,
   "id": "497a3ba8",
   "metadata": {
    "slideshow": {
     "slide_type": "subslide"
    }
   },
   "outputs": [],
   "source": [
    "%%bash\n",
    "g.list type=vector -m -t"
   ]
  },
  {
   "cell_type": "markdown",
   "id": "76c1963e",
   "metadata": {
    "slideshow": {
     "slide_type": "slide"
    }
   },
   "source": [
    "## Visualizing GRASS data"
   ]
  },
  {
   "cell_type": "markdown",
   "id": "02e8701d",
   "metadata": {
    "slideshow": {
     "slide_type": "subslide"
    }
   },
   "source": []
  },
  {
   "cell_type": "code",
   "execution_count": null,
   "id": "fac5c20f",
   "metadata": {},
   "outputs": [],
   "source": []
  },
  {
   "cell_type": "code",
   "execution_count": null,
   "id": "37bdec80",
   "metadata": {
    "slideshow": {
     "slide_type": "subslide"
    }
   },
   "outputs": [],
   "source": []
  },
  {
   "cell_type": "markdown",
   "id": "5d3f456d",
   "metadata": {
    "slideshow": {
     "slide_type": "slide"
    }
   },
   "source": [
    "<h2 align=\"center\">grass.jupyter Syntax</h2>\n",
    "\n",
    "1. Create Instance\n",
    "2. Add layers:\n",
    "\n",
    "    `d.rast` -> `map.d_rast()`, `map3D.d_rast`\n",
    "\n",
    "\n",
    "3. `show` and `save`"
   ]
  },
  {
   "cell_type": "code",
   "execution_count": null,
   "id": "a8fe329f",
   "metadata": {
    "slideshow": {
     "slide_type": "subslide"
    }
   },
   "outputs": [],
   "source": []
  },
  {
   "cell_type": "markdown",
   "id": "5783e31b",
   "metadata": {
    "slideshow": {
     "slide_type": "slide"
    }
   },
   "source": [
    "<h2 align=\"center\">folium Integration</h2>"
   ]
  },
  {
   "cell_type": "code",
   "execution_count": null,
   "id": "6aa49ffe",
   "metadata": {},
   "outputs": [],
   "source": [
    "# Create Interactive Map\n",
    "fig = gj.InteractiveMap(width = 600)\n",
    "# Add raster, vector and layer control to map\n",
    "fig.add_raster(\"elevation\", title=\"Elevation Raster\", opacity=0.8)\n",
    "#fig.add_vector(\"roadsmajor\")\n",
    "fig.add_layer_control(position = \"bottomright\")\n",
    "# Display map\n",
    "fig.show()"
   ]
  },
  {
   "cell_type": "code",
   "execution_count": null,
   "id": "eabed5a2",
   "metadata": {},
   "outputs": [],
   "source": [
    "import folium \n",
    "\n",
    "# Create figure\n",
    "fig = folium.Figure(width=600, height=400)\n",
    "\n",
    "# Create a map to add to the figure later\n",
    "m = folium.Map(tiles=\"Stamen Terrain\", location=[35.761168,-78.668271], zoom_start=13)\n",
    "\n",
    "# Create and add elevation layer to map\n",
    "gj.Raster(\"elevation\", opacity=0.5).add_to(m)\n",
    "\n",
    "# Do some cool folium stuff!\n",
    "# Like make a tooltip\n",
    "tooltip = \"Click me!\"\n",
    "# and add a marker\n",
    "folium.Marker(\n",
    "    [35.781608,-78.675800], popup=\"<i>Center For Geospatial Analytics</i>\", tooltip=tooltip\n",
    ").add_to(m)\n",
    "\n",
    "# and a circle\n",
    "folium.Circle(\n",
    "    radius=120,\n",
    "    location=[35.769781,-78.663160],\n",
    "    popup=\"Great Picnic Area\",\n",
    "    color=\"crimson\",\n",
    "    fill=False,\n",
    "    tooltip=tooltip\n",
    ").add_to(m)\n",
    "\n",
    "# Add the map to the figure\n",
    "fig.add_child(m)\n",
    "\n",
    "# Display figure\n",
    "fig"
   ]
  },
  {
   "cell_type": "markdown",
   "id": "7b827e8b",
   "metadata": {
    "slideshow": {
     "slide_type": "slide"
    }
   },
   "source": [
    "<h2 align=\"center\">Teaching Geospatial Computation and Simulation with grass.jupyter</h2>\n",
    "\n",
    "\n",
    "<center><a href=\"https://github.com/chaedri/GIS714-assignments/\" title=\"Course Repo on GitHub\">Course Repo on GitHub</a>\n",
    "</center>\n",
    "\n",
    "[![Binder](https://camo.githubusercontent.com/581c077bdbc6ca6899c86d0acc6145ae85e9d80e6f805a1071793dbe48917982/68747470733a2f2f6d7962696e6465722e6f72672f62616467655f6c6f676f2e737667)](https://mybinder.org/v2/gh/chaedri/GIS714-assignments/main?urlpath=lab)"
   ]
  },
  {
   "cell_type": "code",
   "execution_count": null,
   "id": "013fdf36",
   "metadata": {
    "slideshow": {
     "slide_type": "subslide"
    }
   },
   "outputs": [],
   "source": [
    "# Make a new mapset for this assignment\n",
    "gs.run_command(\"g.mapset\", mapset=\"HW3_water_simulation\", location=\"nc_spm_08_grass7\", flags=\"c\")"
   ]
  },
  {
   "cell_type": "markdown",
   "id": "c72a4aab",
   "metadata": {
    "slideshow": {
     "slide_type": "subslide"
    }
   },
   "source": [
    "#### Create a map of flooded area\n",
    "We create a map of flooded area with `r.lake` ([GRASS manual for r.lake](https://grass.osgeo.org/grass80/manuals/r.lake.html)) by providing a water level and a seed point:"
   ]
  },
  {
   "cell_type": "code",
   "execution_count": null,
   "id": "e93b6028",
   "metadata": {
    "slideshow": {
     "slide_type": "subslide"
    }
   },
   "outputs": [],
   "source": [
    "gs.run_command(\"r.lake\", elevation=\"elev_lid792_1m\", water_level=113.5, lake=\"flood1\", coordinates=\"638728,220278\")\n",
    "\n",
    "# See results\n",
    "flood1 = gj.Map(use_region=True)\n",
    "flood1.d_rast(map=\"elev_lid792_1m\")\n",
    "flood1.d_rast(map=\"flood1\")\n",
    "# Display map\n",
    "flood1.show()"
   ]
  },
  {
   "cell_type": "markdown",
   "id": "e4ba9587",
   "metadata": {
    "slideshow": {
     "slide_type": "subslide"
    }
   },
   "source": [
    "##### *Question 4*\n",
    "\n",
    "Increase water level to 113.7m and 114.0m and create flooded area maps at these two levels."
   ]
  },
  {
   "cell_type": "code",
   "execution_count": 3,
   "id": "24b3dd36",
   "metadata": {
    "slideshow": {
     "slide_type": "subslide"
    }
   },
   "outputs": [],
   "source": [
    "#### Your Answer Here"
   ]
  },
  {
   "cell_type": "markdown",
   "id": "5a90a7d0",
   "metadata": {
    "slideshow": {
     "slide_type": "subslide"
    }
   },
   "source": [
    "#### Estimating inundation extent using HAND methodology\n",
    "\n",
    "We will use two GRASS addons, `r.stream.distance` and `r.lake.series`, to estimate inundation with Height Above Nearest Drainage methodology (A.D. Nobre, 2011). We need to install them first:"
   ]
  },
  {
   "cell_type": "code",
   "execution_count": null,
   "id": "24dcdb6e",
   "metadata": {
    "slideshow": {
     "slide_type": "subslide"
    }
   },
   "outputs": [],
   "source": [
    "!g.extension r.stream.distance\n",
    "!g.extension r.lake.series"
   ]
  },
  {
   "cell_type": "markdown",
   "id": "74b928a5",
   "metadata": {
    "slideshow": {
     "slide_type": "subslide"
    }
   },
   "source": [
    "For this section, we will change our computation region to `elevation` which is a larger study area than we used above. Because we are using a new region (and also a higher threshold of 100,000), we need to run `r.watershed` again to compute the flow accumulation, drainage and streams. We convert the streams to vector for better visualization."
   ]
  },
  {
   "cell_type": "code",
   "execution_count": null,
   "id": "1e601f70",
   "metadata": {
    "slideshow": {
     "slide_type": "subslide"
    }
   },
   "outputs": [],
   "source": [
    "gs.run_command(\"g.region\", raster=\"elevation\")\n",
    "gs.run_command(\"r.watershed\", elevation=\"elevation\", accumulation=\"flowacc\", drainage=\"drainage\", stream=\"streams_100k\", threshold=100000)\n",
    "gs.run_command(\"r.to.vect\", input=\"streams_100k\", output=\"streams_100k\", type=\"line\")"
   ]
  },
  {
   "cell_type": "markdown",
   "id": "76ab3083",
   "metadata": {
    "slideshow": {
     "slide_type": "subslide"
    }
   },
   "source": [
    "Now we use `r.stream.distance` with output parameter difference to compute new raster where each cell is the elevation difference between the cell and the the cell on the stream where the cell drains. This is our HAND terrain model."
   ]
  },
  {
   "cell_type": "code",
   "execution_count": null,
   "id": "ee544b24",
   "metadata": {
    "slideshow": {
     "slide_type": "subslide"
    }
   },
   "outputs": [],
   "source": [
    "gs.run_command(\"r.stream.distance\", stream_rast=\"streams_100k\", direction=\"drainage\", elevation=\"elevation\", method=\"downstream\", difference=\"above_stream\")"
   ]
  },
  {
   "cell_type": "markdown",
   "id": "6dd756ca",
   "metadata": {
    "slideshow": {
     "slide_type": "subslide"
    }
   },
   "source": [
    "With `r.lake.series`, we can create a series of inundation maps with rising water levels. `r.lake.series` creates a space-time dataset. We can use temporal modules to further work with the data..."
   ]
  },
  {
   "cell_type": "code",
   "execution_count": null,
   "id": "b73eef69",
   "metadata": {
    "slideshow": {
     "slide_type": "subslide"
    }
   },
   "outputs": [],
   "source": [
    "gs.run_command(\"r.lake.series\", elevation=\"above_stream\", start_water_level=0, end_water_level=5, water_level_step=0.5, \n",
    "               output=\"inundation\", seed_raster=\"streams\")"
   ]
  },
  {
   "cell_type": "markdown",
   "id": "3a38f9d6",
   "metadata": {
    "slideshow": {
     "slide_type": "subslide"
    }
   },
   "source": [
    "... or visualize the flood with TimeSeriesMap."
   ]
  },
  {
   "cell_type": "code",
   "execution_count": null,
   "id": "990ae316",
   "metadata": {
    "slideshow": {
     "slide_type": "subslide"
    }
   },
   "outputs": [],
   "source": [
    "flood_map = gj.TimeSeriesMap(use_region=True)\n",
    "flood_map.add_raster_series(\"inundation\")\n",
    "flood_map.d_legend(color=\"black\", at=(10,40,2,6)) #Add legend\n",
    "flood_map.d_barscale()\n",
    "flood.show()"
   ]
  },
  {
   "cell_type": "markdown",
   "id": "a43106b0",
   "metadata": {
    "slideshow": {
     "slide_type": "subslide"
    }
   },
   "source": [
    "<h2 align=\"center\">Course Reflections</h2>\n",
    "\n",
    "Notebook format was generally well received: \n",
    "* Several students noted they enjoyed being able to experiment with GRASS tools by varying parameters and visually observing the effect while working through the tutorial sections of the notebooks.\n",
    "* By hosting the notebooks on GitHub and including a link to Binder, students could easily access and run the notebooks without installing and configuring software on their personal computers.\n",
    "    * This also gave the students exposure to working with Git and GitHub, an important tool for open science and collaborative research.\n",
    "\n",
    "There were several areas of the notebook deployment that needed improvement or that posed a difficulty to the class:\n",
    "* First, running the notebooks locally was difficult for many students. Due to the required configuration of path variables on Windows operating system and installation of required packages, many students switched to Binder right away.\n",
    "* For students that did get the notebooks running locally, we often encountered issues that were specific to their version of GRASS GIS or operating system.\n",
    "* We also found that Binder was not a reliable host; occasionally, there were too many users accessing Binder’s computational nodes and the notebooks failed. In the future, we may use a JupyterHub hosted by NC State University to circumvent such technical issues.\n",
    "* Secondly, the notebooks assume users have basic Python abilities, are familiar with the fundamentals of geospatial analysis (such as common data formats and projections) and have some experience using Jupyter Notebooks. For students without any of these prerequisite skills, the course could be challenging even with the removal of the command line interface and GUI workflows present in the previous tutorial format."
   ]
  },
  {
   "cell_type": "markdown",
   "id": "bce65b6c",
   "metadata": {
    "slideshow": {
     "slide_type": "slide"
    }
   },
   "source": [
    "<h2 align=\"center\">More Resources</h2>\n",
    "\n",
    "[grass.jupyter Manual Page](https://grass.osgeo.org/grass82/manuals/libpython/grass.jupyter.html)\n",
    "\n",
    "[FOSS4G '22 GRASS GIS Workshop Materials (Anna Petrasova)](https://github.com/ncsu-geoforall-lab/grass-gis-workshop-foss4g-2022)\n",
    "\n",
    "[GIS714: Advanced Geospatial Computation and Simulation Course Repository](https://github.com/chaedri/GIS714-assignments/)\n",
    "\n",
    "[Example Notebooks in GRASS GIS's GitHub Repository (can be run with binder through link provided in main repo README)](https://github.com/OSGeo/grass/tree/main/doc/notebooks)\n"
   ]
  },
  {
   "cell_type": "markdown",
   "id": "ac18238a",
   "metadata": {
    "slideshow": {
     "slide_type": "slide"
    }
   },
   "source": [
    "## Future Work"
   ]
  },
  {
   "cell_type": "markdown",
   "id": "97d49e7b",
   "metadata": {
    "slideshow": {
     "slide_type": "slide"
    }
   },
   "source": [
    "## Thank you to...\n",
    "\n",
    "Helena Mitasova\n",
    "\n",
    "Stefan Blumentrath\n",
    "\n",
    "Vero Andreo\n",
    "\n",
    "GIS714 Class Spring 2021\n",
    "\n",
    "… and the GRASS community, NC State Center for Geospatial Analytics, Google Summer of Code\n"
   ]
  },
  {
   "cell_type": "code",
   "execution_count": null,
   "id": "1353ab4a",
   "metadata": {
    "slideshow": {
     "slide_type": "skip"
    }
   },
   "outputs": [],
   "source": [
    "!jupyter nbconvert FOSS4G_2022_grass_jupyter.ipynb --to slides --post serve"
   ]
  }
 ],
 "metadata": {
  "celltoolbar": "Slideshow",
  "kernelspec": {
   "display_name": "Python 3 (ipykernel)",
   "language": "python",
   "name": "python3"
  },
  "language_info": {
   "codemirror_mode": {
    "name": "ipython",
    "version": 3
   },
   "file_extension": ".py",
   "mimetype": "text/x-python",
   "name": "python",
   "nbconvert_exporter": "python",
   "pygments_lexer": "ipython3",
   "version": "3.9.5"
  }
 },
 "nbformat": 4,
 "nbformat_minor": 5
}
